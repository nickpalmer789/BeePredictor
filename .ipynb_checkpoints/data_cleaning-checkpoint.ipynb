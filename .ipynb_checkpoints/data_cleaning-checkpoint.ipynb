{
 "cells": [
  {
   "cell_type": "code",
   "execution_count": 1,
   "metadata": {},
   "outputs": [],
   "source": [
    "import pandas as pd"
   ]
  },
  {
   "cell_type": "code",
   "execution_count": 2,
   "metadata": {},
   "outputs": [],
   "source": [
    "sch_flow = pd.read_csv(\"data/raw/schwartau/flow_schwartau.csv\")\n",
    "sch_temp = pd.read_csv(\"data/raw/schwartau/temperature_schwartau.csv\")\n",
    "test_sch = sch_temp\n",
    "sch_humid = pd.read_csv(\"data/raw/schwartau/humidity_schwartau.csv\")\n",
    "sch_weight = pd.read_csv(\"data/raw/schwartau/weight_schwartau.csv\")"
   ]
  },
  {
   "cell_type": "markdown",
   "metadata": {},
   "source": [
    "pls love me I need it to survive -Derek"
   ]
  },
  {
   "cell_type": "markdown",
   "metadata": {},
   "source": [
    "<hr>\n",
    "Cleaning notes for flow:\n",
    "\n",
    "* Lots of zero data\n",
    "* Measured every minute. Need to aggregate\n",
    "* Negative numbers are bee departures\n",
    "* Positive numbers are bee arrivals\n",
    "* Keep arrivals and departures separate "
   ]
  },
  {
   "cell_type": "code",
   "execution_count": 3,
   "metadata": {},
   "outputs": [
    {
     "data": {
      "text/html": [
       "<div>\n",
       "<style scoped>\n",
       "    .dataframe tbody tr th:only-of-type {\n",
       "        vertical-align: middle;\n",
       "    }\n",
       "\n",
       "    .dataframe tbody tr th {\n",
       "        vertical-align: top;\n",
       "    }\n",
       "\n",
       "    .dataframe thead th {\n",
       "        text-align: right;\n",
       "    }\n",
       "</style>\n",
       "<table border=\"1\" class=\"dataframe\">\n",
       "  <thead>\n",
       "    <tr style=\"text-align: right;\">\n",
       "      <th></th>\n",
       "      <th>timestamp</th>\n",
       "      <th>flow</th>\n",
       "    </tr>\n",
       "  </thead>\n",
       "  <tbody>\n",
       "    <tr>\n",
       "      <th>0</th>\n",
       "      <td>2017-01-01 14:15:00</td>\n",
       "      <td>0</td>\n",
       "    </tr>\n",
       "    <tr>\n",
       "      <th>1</th>\n",
       "      <td>2017-01-01 14:16:00</td>\n",
       "      <td>0</td>\n",
       "    </tr>\n",
       "    <tr>\n",
       "      <th>2</th>\n",
       "      <td>2017-01-01 14:17:00</td>\n",
       "      <td>0</td>\n",
       "    </tr>\n",
       "    <tr>\n",
       "      <th>3</th>\n",
       "      <td>2017-01-01 14:18:00</td>\n",
       "      <td>0</td>\n",
       "    </tr>\n",
       "    <tr>\n",
       "      <th>4</th>\n",
       "      <td>2017-01-01 14:19:00</td>\n",
       "      <td>0</td>\n",
       "    </tr>\n",
       "  </tbody>\n",
       "</table>\n",
       "</div>"
      ],
      "text/plain": [
       "             timestamp  flow\n",
       "0  2017-01-01 14:15:00     0\n",
       "1  2017-01-01 14:16:00     0\n",
       "2  2017-01-01 14:17:00     0\n",
       "3  2017-01-01 14:18:00     0\n",
       "4  2017-01-01 14:19:00     0"
      ]
     },
     "execution_count": 3,
     "metadata": {},
     "output_type": "execute_result"
    }
   ],
   "source": [
    "sch_flow.head()"
   ]
  },
  {
   "cell_type": "markdown",
   "metadata": {},
   "source": [
    "<hr>\n",
    "Cleaning notes for temperature:\n",
    "\n",
    "* May contain NaN (Dropped rows containing these.  DONE-Derek)\n",
    "* Measured in degrees celsius (Will leave as C unless otherwise stated.  DONE-Derek)\n",
    "* Measured every 5 minutes"
   ]
  },
  {
   "cell_type": "code",
   "execution_count": 8,
   "metadata": {},
   "outputs": [
    {
     "name": "stdout",
     "output_type": "stream",
     "text": [
      "             timestamp  temperature\n",
      "0  2017-01-01 14:10:00          NaN\n",
      "1  2017-01-01 14:15:00       12.340\n",
      "2  2017-01-01 14:20:00       12.270\n",
      "3  2017-01-01 14:25:00       12.276\n",
      "4  2017-01-01 14:30:00       12.356\n",
      "\n",
      "253430\n",
      "\n",
      "251398\n",
      "\n",
      "             timestamp  temperature\n",
      "1  2017-01-01 14:15:00       12.340\n",
      "2  2017-01-01 14:20:00       12.270\n",
      "3  2017-01-01 14:25:00       12.276\n",
      "4  2017-01-01 14:30:00       12.356\n",
      "5  2017-01-01 14:35:00       12.404\n",
      "\n",
      "             timestamp  temperature\n",
      "1  2017-01-01 14:15:00       12.340\n",
      "4  2017-01-01 14:30:00       12.356\n",
      "7  2017-01-01 14:45:00       12.492\n",
      "10 2017-01-01 15:00:00       12.454\n",
      "13 2017-01-01 15:15:00       12.378\n"
     ]
    }
   ],
   "source": [
    "#Preview of temp\n",
    "print(test_sch.head())\n",
    "print()\n",
    "#Initial number of values\n",
    "print(len(test_sch.index))\n",
    "#Drop NaN value rows\n",
    "sch_tempFilter = test_sch.dropna()\n",
    "print()\n",
    "#Number of values after\n",
    "print(len(sch_tempFilter.index))\n",
    "print()\n",
    "print(sch_tempFilter.head())\n",
    "print()\n",
    "\n",
    "#Sorting timestamp...\n",
    "tempList = []\n",
    "sch_temp = sch_temp.dropna()\n",
    "sch_temp['timestamp'] = pd.to_datetime(sch_temp['timestamp'])\n",
    "for ind,minute in sch_temp['timestamp'].dt.minute.items():\n",
    "    if (minute %15 != 0):\n",
    "        tempList.append(ind)\n",
    "sch_temp = sch_temp.drop(index = tempList)\n",
    "print(sch_temp.head())"
   ]
  },
  {
   "cell_type": "markdown",
   "metadata": {},
   "source": [
    "<hr>\n",
    "Cleaning notes for humidity:\n",
    "\n",
    "* Measured in percentage\n",
    "* Measured twice per day\n",
    "* May need to be suplimented with other data"
   ]
  },
  {
   "cell_type": "code",
   "execution_count": 5,
   "metadata": {},
   "outputs": [
    {
     "data": {
      "text/html": [
       "<div>\n",
       "<style scoped>\n",
       "    .dataframe tbody tr th:only-of-type {\n",
       "        vertical-align: middle;\n",
       "    }\n",
       "\n",
       "    .dataframe tbody tr th {\n",
       "        vertical-align: top;\n",
       "    }\n",
       "\n",
       "    .dataframe thead th {\n",
       "        text-align: right;\n",
       "    }\n",
       "</style>\n",
       "<table border=\"1\" class=\"dataframe\">\n",
       "  <thead>\n",
       "    <tr style=\"text-align: right;\">\n",
       "      <th></th>\n",
       "      <th>timestamp</th>\n",
       "      <th>humidity</th>\n",
       "    </tr>\n",
       "  </thead>\n",
       "  <tbody>\n",
       "    <tr>\n",
       "      <th>0</th>\n",
       "      <td>2017-01-01 13:00:00</td>\n",
       "      <td>98.040310</td>\n",
       "    </tr>\n",
       "    <tr>\n",
       "      <th>1</th>\n",
       "      <td>2017-01-02 01:00:00</td>\n",
       "      <td>98.610556</td>\n",
       "    </tr>\n",
       "    <tr>\n",
       "      <th>2</th>\n",
       "      <td>2017-01-02 13:00:00</td>\n",
       "      <td>99.002083</td>\n",
       "    </tr>\n",
       "    <tr>\n",
       "      <th>3</th>\n",
       "      <td>2017-01-03 01:00:00</td>\n",
       "      <td>98.486806</td>\n",
       "    </tr>\n",
       "    <tr>\n",
       "      <th>4</th>\n",
       "      <td>2017-01-03 13:00:00</td>\n",
       "      <td>98.320139</td>\n",
       "    </tr>\n",
       "  </tbody>\n",
       "</table>\n",
       "</div>"
      ],
      "text/plain": [
       "             timestamp   humidity\n",
       "0  2017-01-01 13:00:00  98.040310\n",
       "1  2017-01-02 01:00:00  98.610556\n",
       "2  2017-01-02 13:00:00  99.002083\n",
       "3  2017-01-03 01:00:00  98.486806\n",
       "4  2017-01-03 13:00:00  98.320139"
      ]
     },
     "execution_count": 5,
     "metadata": {},
     "output_type": "execute_result"
    }
   ],
   "source": [
    "sch_humid.head()"
   ]
  },
  {
   "cell_type": "markdown",
   "metadata": {},
   "source": [
    "<hr>\n",
    "Cleaning notes for weight:\n",
    "\n",
    "* Measured twice per day. Need some creative solution here\n",
    "* Potential to correlate with flow?\n",
    "* The weight for schwartau needs to be divided by 1000. It was measured in grams accidentally."
   ]
  },
  {
   "cell_type": "code",
   "execution_count": 6,
   "metadata": {},
   "outputs": [
    {
     "data": {
      "text/html": [
       "<div>\n",
       "<style scoped>\n",
       "    .dataframe tbody tr th:only-of-type {\n",
       "        vertical-align: middle;\n",
       "    }\n",
       "\n",
       "    .dataframe tbody tr th {\n",
       "        vertical-align: top;\n",
       "    }\n",
       "\n",
       "    .dataframe thead th {\n",
       "        text-align: right;\n",
       "    }\n",
       "</style>\n",
       "<table border=\"1\" class=\"dataframe\">\n",
       "  <thead>\n",
       "    <tr style=\"text-align: right;\">\n",
       "      <th></th>\n",
       "      <th>timestamp</th>\n",
       "      <th>weight</th>\n",
       "    </tr>\n",
       "  </thead>\n",
       "  <tbody>\n",
       "    <tr>\n",
       "      <th>0</th>\n",
       "      <td>2017-01-01 13:00:00</td>\n",
       "      <td>50736.790078</td>\n",
       "    </tr>\n",
       "    <tr>\n",
       "      <th>1</th>\n",
       "      <td>2017-01-02 01:00:00</td>\n",
       "      <td>50700.685000</td>\n",
       "    </tr>\n",
       "    <tr>\n",
       "      <th>2</th>\n",
       "      <td>2017-01-02 13:00:00</td>\n",
       "      <td>50614.907500</td>\n",
       "    </tr>\n",
       "    <tr>\n",
       "      <th>3</th>\n",
       "      <td>2017-01-03 01:00:00</td>\n",
       "      <td>50739.824167</td>\n",
       "    </tr>\n",
       "    <tr>\n",
       "      <th>4</th>\n",
       "      <td>2017-01-03 13:00:00</td>\n",
       "      <td>50799.746944</td>\n",
       "    </tr>\n",
       "  </tbody>\n",
       "</table>\n",
       "</div>"
      ],
      "text/plain": [
       "             timestamp        weight\n",
       "0  2017-01-01 13:00:00  50736.790078\n",
       "1  2017-01-02 01:00:00  50700.685000\n",
       "2  2017-01-02 13:00:00  50614.907500\n",
       "3  2017-01-03 01:00:00  50739.824167\n",
       "4  2017-01-03 13:00:00  50799.746944"
      ]
     },
     "execution_count": 6,
     "metadata": {},
     "output_type": "execute_result"
    }
   ],
   "source": [
    "sch_weight.head()"
   ]
  },
  {
   "cell_type": "code",
   "execution_count": null,
   "metadata": {},
   "outputs": [],
   "source": []
  }
 ],
 "metadata": {
  "kernelspec": {
   "display_name": "Python 3",
   "language": "python",
   "name": "python3"
  },
  "language_info": {
   "codemirror_mode": {
    "name": "ipython",
    "version": 3
   },
   "file_extension": ".py",
   "mimetype": "text/x-python",
   "name": "python",
   "nbconvert_exporter": "python",
   "pygments_lexer": "ipython3",
   "version": "3.6.5"
  }
 },
 "nbformat": 4,
 "nbformat_minor": 4
}
